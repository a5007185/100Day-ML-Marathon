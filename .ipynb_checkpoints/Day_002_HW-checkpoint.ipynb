{
 "cells": [
  {
   "cell_type": "markdown",
   "metadata": {},
   "source": [
    "## 練習時間\n",
    "資料的操作有很多，接下來的馬拉松中我們會介紹常被使用到的操作，參加者不妨先自行想像一下，第一次看到資料，我們一般會想知道什麼訊息？\n",
    "\n",
    "#### Ex: 如何知道資料的 row 數以及 column 數、有什麼欄位、多少欄位、如何截取部分的資料等等\n",
    "\n",
    "有了對資料的好奇之後，我們又怎麼通過程式碼來達成我們的目的呢？\n",
    "\n",
    "#### 可參考該[基礎教材](https://bookdata.readthedocs.io/en/latest/base/01_pandas.html#DataFrame-%E5%85%A5%E9%97%A8)或自行 google"
   ]
  },
  {
   "cell_type": "code",
   "execution_count": 1,
   "metadata": {},
   "outputs": [],
   "source": [
    "import os\n",
    "import numpy as np\n",
    "import pandas as pd"
   ]
  },
  {
   "cell_type": "code",
   "execution_count": 2,
   "metadata": {},
   "outputs": [],
   "source": [
    "# 設定 data_path\n",
    "dir_data = './data/'"
   ]
  },
  {
   "cell_type": "code",
   "execution_count": 3,
   "metadata": {},
   "outputs": [
    {
     "name": "stdout",
     "output_type": "stream",
     "text": [
      "Path of read in data: ./data/application_train.csv\n"
     ]
    }
   ],
   "source": [
    "f_app = os.path.join(dir_data, 'application_train.csv')\n",
    "print('Path of read in data: %s' % (f_app))\n",
    "app_train = pd.read_csv(f_app)"
   ]
  },
  {
   "cell_type": "markdown",
   "metadata": {},
   "source": [
    "### 如果沒有想法，可以先嘗試找出剛剛例子中提到的問題的答案\n",
    "#### 資料的 row 數以及 column 數"
   ]
  },
  {
   "cell_type": "code",
   "execution_count": 4,
   "metadata": {},
   "outputs": [
    {
     "name": "stdout",
     "output_type": "stream",
     "text": [
      "Rows:307511\n",
      "Columns:122\n"
     ]
    }
   ],
   "source": [
    "R=len(app_train.index)\n",
    "C=len(app_train.columns)\n",
    "print(\"Rows:{:<2}\\nColumns:{:<2}\".format(R,C))"
   ]
  },
  {
   "cell_type": "markdown",
   "metadata": {},
   "source": [
    "#### 列出所有欄位"
   ]
  },
  {
   "cell_type": "code",
   "execution_count": 5,
   "metadata": {},
   "outputs": [
    {
     "name": "stdout",
     "output_type": "stream",
     "text": [
      "1   SK_ID_CURR\n",
      "2   TARGET\n",
      "3   NAME_CONTRACT_TYPE\n",
      "4   CODE_GENDER\n",
      "5   FLAG_OWN_CAR\n",
      "6   FLAG_OWN_REALTY\n",
      "7   CNT_CHILDREN\n",
      "8   AMT_INCOME_TOTAL\n",
      "9   AMT_CREDIT\n",
      "10  AMT_ANNUITY\n",
      "11  AMT_GOODS_PRICE\n",
      "12  NAME_TYPE_SUITE\n",
      "13  NAME_INCOME_TYPE\n",
      "14  NAME_EDUCATION_TYPE\n",
      "15  NAME_FAMILY_STATUS\n",
      "16  NAME_HOUSING_TYPE\n",
      "17  REGION_POPULATION_RELATIVE\n",
      "18  DAYS_BIRTH\n",
      "19  DAYS_EMPLOYED\n",
      "20  DAYS_REGISTRATION\n",
      "21  DAYS_ID_PUBLISH\n",
      "22  OWN_CAR_AGE\n",
      "23  FLAG_MOBIL\n",
      "24  FLAG_EMP_PHONE\n",
      "25  FLAG_WORK_PHONE\n",
      "26  FLAG_CONT_MOBILE\n",
      "27  FLAG_PHONE\n",
      "28  FLAG_EMAIL\n",
      "29  OCCUPATION_TYPE\n",
      "30  CNT_FAM_MEMBERS\n",
      "31  REGION_RATING_CLIENT\n",
      "32  REGION_RATING_CLIENT_W_CITY\n",
      "33  WEEKDAY_APPR_PROCESS_START\n",
      "34  HOUR_APPR_PROCESS_START\n",
      "35  REG_REGION_NOT_LIVE_REGION\n",
      "36  REG_REGION_NOT_WORK_REGION\n",
      "37  LIVE_REGION_NOT_WORK_REGION\n",
      "38  REG_CITY_NOT_LIVE_CITY\n",
      "39  REG_CITY_NOT_WORK_CITY\n",
      "40  LIVE_CITY_NOT_WORK_CITY\n",
      "41  ORGANIZATION_TYPE\n",
      "42  EXT_SOURCE_1\n",
      "43  EXT_SOURCE_2\n",
      "44  EXT_SOURCE_3\n",
      "45  APARTMENTS_AVG\n",
      "46  BASEMENTAREA_AVG\n",
      "47  YEARS_BEGINEXPLUATATION_AVG\n",
      "48  YEARS_BUILD_AVG\n",
      "49  COMMONAREA_AVG\n",
      "50  ELEVATORS_AVG\n",
      "51  ENTRANCES_AVG\n",
      "52  FLOORSMAX_AVG\n",
      "53  FLOORSMIN_AVG\n",
      "54  LANDAREA_AVG\n",
      "55  LIVINGAPARTMENTS_AVG\n",
      "56  LIVINGAREA_AVG\n",
      "57  NONLIVINGAPARTMENTS_AVG\n",
      "58  NONLIVINGAREA_AVG\n",
      "59  APARTMENTS_MODE\n",
      "60  BASEMENTAREA_MODE\n",
      "61  YEARS_BEGINEXPLUATATION_MODE\n",
      "62  YEARS_BUILD_MODE\n",
      "63  COMMONAREA_MODE\n",
      "64  ELEVATORS_MODE\n",
      "65  ENTRANCES_MODE\n",
      "66  FLOORSMAX_MODE\n",
      "67  FLOORSMIN_MODE\n",
      "68  LANDAREA_MODE\n",
      "69  LIVINGAPARTMENTS_MODE\n",
      "70  LIVINGAREA_MODE\n",
      "71  NONLIVINGAPARTMENTS_MODE\n",
      "72  NONLIVINGAREA_MODE\n",
      "73  APARTMENTS_MEDI\n",
      "74  BASEMENTAREA_MEDI\n",
      "75  YEARS_BEGINEXPLUATATION_MEDI\n",
      "76  YEARS_BUILD_MEDI\n",
      "77  COMMONAREA_MEDI\n",
      "78  ELEVATORS_MEDI\n",
      "79  ENTRANCES_MEDI\n",
      "80  FLOORSMAX_MEDI\n",
      "81  FLOORSMIN_MEDI\n",
      "82  LANDAREA_MEDI\n",
      "83  LIVINGAPARTMENTS_MEDI\n",
      "84  LIVINGAREA_MEDI\n",
      "85  NONLIVINGAPARTMENTS_MEDI\n",
      "86  NONLIVINGAREA_MEDI\n",
      "87  FONDKAPREMONT_MODE\n",
      "88  HOUSETYPE_MODE\n",
      "89  TOTALAREA_MODE\n",
      "90  WALLSMATERIAL_MODE\n",
      "91  EMERGENCYSTATE_MODE\n",
      "92  OBS_30_CNT_SOCIAL_CIRCLE\n",
      "93  DEF_30_CNT_SOCIAL_CIRCLE\n",
      "94  OBS_60_CNT_SOCIAL_CIRCLE\n",
      "95  DEF_60_CNT_SOCIAL_CIRCLE\n",
      "96  DAYS_LAST_PHONE_CHANGE\n",
      "97  FLAG_DOCUMENT_2\n",
      "98  FLAG_DOCUMENT_3\n",
      "99  FLAG_DOCUMENT_4\n",
      "100 FLAG_DOCUMENT_5\n",
      "101 FLAG_DOCUMENT_6\n",
      "102 FLAG_DOCUMENT_7\n",
      "103 FLAG_DOCUMENT_8\n",
      "104 FLAG_DOCUMENT_9\n",
      "105 FLAG_DOCUMENT_10\n",
      "106 FLAG_DOCUMENT_11\n",
      "107 FLAG_DOCUMENT_12\n",
      "108 FLAG_DOCUMENT_13\n",
      "109 FLAG_DOCUMENT_14\n",
      "110 FLAG_DOCUMENT_15\n",
      "111 FLAG_DOCUMENT_16\n",
      "112 FLAG_DOCUMENT_17\n",
      "113 FLAG_DOCUMENT_18\n",
      "114 FLAG_DOCUMENT_19\n",
      "115 FLAG_DOCUMENT_20\n",
      "116 FLAG_DOCUMENT_21\n",
      "117 AMT_REQ_CREDIT_BUREAU_HOUR\n",
      "118 AMT_REQ_CREDIT_BUREAU_DAY\n",
      "119 AMT_REQ_CREDIT_BUREAU_WEEK\n",
      "120 AMT_REQ_CREDIT_BUREAU_MON\n",
      "121 AMT_REQ_CREDIT_BUREAU_QRT\n",
      "122 AMT_REQ_CREDIT_BUREAU_YEAR\n"
     ]
    }
   ],
   "source": [
    "i=1\n",
    "for Iteam in app_train.columns:\n",
    "    print(\"{:<3} {}\".format(i,Iteam))\n",
    "    i+=1"
   ]
  },
  {
   "cell_type": "markdown",
   "metadata": {},
   "source": [
    "#### 截取部分資料"
   ]
  },
  {
   "cell_type": "code",
   "execution_count": 6,
   "metadata": {},
   "outputs": [
    {
     "name": "stdout",
     "output_type": "stream",
     "text": [
      "<class 'pandas.core.frame.DataFrame'>\n",
      "RangeIndex: 307511 entries, 0 to 307510\n",
      "Columns: 122 entries, SK_ID_CURR to AMT_REQ_CREDIT_BUREAU_YEAR\n",
      "dtypes: float64(65), int64(41), object(16)\n",
      "memory usage: 267.5+ MB\n"
     ]
    }
   ],
   "source": [
    "from pandas import Series, DataFrame\n",
    "df = DataFrame(app_train,columns=app_train.columns)\n",
    "df.info()"
   ]
  },
  {
   "cell_type": "code",
   "execution_count": 7,
   "metadata": {},
   "outputs": [
    {
     "name": "stdout",
     "output_type": "stream",
     "text": [
      "   SK_ID_CURR  TARGET NAME_CONTRACT_TYPE CODE_GENDER FLAG_OWN_CAR  \\\n",
      "0      100002       1         Cash loans           M            N   \n",
      "1      100003       0         Cash loans           F            N   \n",
      "2      100004       0    Revolving loans           M            Y   \n",
      "3      100006       0         Cash loans           F            N   \n",
      "4      100007       0         Cash loans           M            N   \n",
      "\n",
      "  FLAG_OWN_REALTY  CNT_CHILDREN  AMT_INCOME_TOTAL  AMT_CREDIT  AMT_ANNUITY  \\\n",
      "0               Y             0          202500.0    406597.5      24700.5   \n",
      "1               N             0          270000.0   1293502.5      35698.5   \n",
      "2               Y             0           67500.0    135000.0       6750.0   \n",
      "3               Y             0          135000.0    312682.5      29686.5   \n",
      "4               Y             0          121500.0    513000.0      21865.5   \n",
      "\n",
      "              ...              FLAG_DOCUMENT_18 FLAG_DOCUMENT_19  \\\n",
      "0             ...                             0                0   \n",
      "1             ...                             0                0   \n",
      "2             ...                             0                0   \n",
      "3             ...                             0                0   \n",
      "4             ...                             0                0   \n",
      "\n",
      "  FLAG_DOCUMENT_20 FLAG_DOCUMENT_21 AMT_REQ_CREDIT_BUREAU_HOUR  \\\n",
      "0                0                0                        0.0   \n",
      "1                0                0                        0.0   \n",
      "2                0                0                        0.0   \n",
      "3                0                0                        NaN   \n",
      "4                0                0                        0.0   \n",
      "\n",
      "  AMT_REQ_CREDIT_BUREAU_DAY  AMT_REQ_CREDIT_BUREAU_WEEK  \\\n",
      "0                       0.0                         0.0   \n",
      "1                       0.0                         0.0   \n",
      "2                       0.0                         0.0   \n",
      "3                       NaN                         NaN   \n",
      "4                       0.0                         0.0   \n",
      "\n",
      "   AMT_REQ_CREDIT_BUREAU_MON  AMT_REQ_CREDIT_BUREAU_QRT  \\\n",
      "0                        0.0                        0.0   \n",
      "1                        0.0                        0.0   \n",
      "2                        0.0                        0.0   \n",
      "3                        NaN                        NaN   \n",
      "4                        0.0                        0.0   \n",
      "\n",
      "   AMT_REQ_CREDIT_BUREAU_YEAR  \n",
      "0                         1.0  \n",
      "1                         0.0  \n",
      "2                         0.0  \n",
      "3                         NaN  \n",
      "4                         0.0  \n",
      "\n",
      "[5 rows x 122 columns]\n"
     ]
    }
   ],
   "source": [
    "#前五筆資料\n",
    "dfh = df.head() #預設為5，也可以自行設定數字\n",
    "print(dfh)"
   ]
  },
  {
   "cell_type": "code",
   "execution_count": 8,
   "metadata": {},
   "outputs": [
    {
     "name": "stdout",
     "output_type": "stream",
     "text": [
      "        SK_ID_CURR  TARGET NAME_CONTRACT_TYPE CODE_GENDER FLAG_OWN_CAR  \\\n",
      "307506      456251       0         Cash loans           M            N   \n",
      "307507      456252       0         Cash loans           F            N   \n",
      "307508      456253       0         Cash loans           F            N   \n",
      "307509      456254       1         Cash loans           F            N   \n",
      "307510      456255       0         Cash loans           F            N   \n",
      "\n",
      "       FLAG_OWN_REALTY  CNT_CHILDREN  AMT_INCOME_TOTAL  AMT_CREDIT  \\\n",
      "307506               N             0          157500.0    254700.0   \n",
      "307507               Y             0           72000.0    269550.0   \n",
      "307508               Y             0          153000.0    677664.0   \n",
      "307509               Y             0          171000.0    370107.0   \n",
      "307510               N             0          157500.0    675000.0   \n",
      "\n",
      "        AMT_ANNUITY             ...              FLAG_DOCUMENT_18  \\\n",
      "307506      27558.0             ...                             0   \n",
      "307507      12001.5             ...                             0   \n",
      "307508      29979.0             ...                             0   \n",
      "307509      20205.0             ...                             0   \n",
      "307510      49117.5             ...                             0   \n",
      "\n",
      "       FLAG_DOCUMENT_19 FLAG_DOCUMENT_20 FLAG_DOCUMENT_21  \\\n",
      "307506                0                0                0   \n",
      "307507                0                0                0   \n",
      "307508                0                0                0   \n",
      "307509                0                0                0   \n",
      "307510                0                0                0   \n",
      "\n",
      "       AMT_REQ_CREDIT_BUREAU_HOUR AMT_REQ_CREDIT_BUREAU_DAY  \\\n",
      "307506                        NaN                       NaN   \n",
      "307507                        NaN                       NaN   \n",
      "307508                        1.0                       0.0   \n",
      "307509                        0.0                       0.0   \n",
      "307510                        0.0                       0.0   \n",
      "\n",
      "        AMT_REQ_CREDIT_BUREAU_WEEK  AMT_REQ_CREDIT_BUREAU_MON  \\\n",
      "307506                         NaN                        NaN   \n",
      "307507                         NaN                        NaN   \n",
      "307508                         0.0                        1.0   \n",
      "307509                         0.0                        0.0   \n",
      "307510                         0.0                        2.0   \n",
      "\n",
      "        AMT_REQ_CREDIT_BUREAU_QRT  AMT_REQ_CREDIT_BUREAU_YEAR  \n",
      "307506                        NaN                         NaN  \n",
      "307507                        NaN                         NaN  \n",
      "307508                        0.0                         1.0  \n",
      "307509                        0.0                         0.0  \n",
      "307510                        0.0                         1.0  \n",
      "\n",
      "[5 rows x 122 columns]\n"
     ]
    }
   ],
   "source": [
    "#後五筆資料\n",
    "dft = df.tail() #預設為5，也可以自行設定數字\n",
    "print(dft)"
   ]
  },
  {
   "cell_type": "markdown",
   "metadata": {},
   "source": [
    "#### 還有各種數之不盡的資料操作，重點還是取決於實務中遇到的狀況和你想問的問題，在馬拉松中我們也會陸續提到更多例子"
   ]
  },
  {
   "cell_type": "code",
   "execution_count": 9,
   "metadata": {},
   "outputs": [
    {
     "name": "stdout",
     "output_type": "stream",
     "text": [
      "          SK_ID_CURR         TARGET   CNT_CHILDREN  AMT_INCOME_TOTAL  \\\n",
      "count  307511.000000  307511.000000  307511.000000      3.075110e+05   \n",
      "mean   278180.518577       0.080729       0.417052      1.687979e+05   \n",
      "std    102790.175348       0.272419       0.722121      2.371231e+05   \n",
      "min    100002.000000       0.000000       0.000000      2.565000e+04   \n",
      "25%    189145.500000       0.000000       0.000000      1.125000e+05   \n",
      "50%    278202.000000       0.000000       0.000000      1.471500e+05   \n",
      "75%    367142.500000       0.000000       1.000000      2.025000e+05   \n",
      "max    456255.000000       1.000000      19.000000      1.170000e+08   \n",
      "\n",
      "         AMT_CREDIT    AMT_ANNUITY  AMT_GOODS_PRICE  \\\n",
      "count  3.075110e+05  307499.000000     3.072330e+05   \n",
      "mean   5.990260e+05   27108.573909     5.383962e+05   \n",
      "std    4.024908e+05   14493.737315     3.694465e+05   \n",
      "min    4.500000e+04    1615.500000     4.050000e+04   \n",
      "25%    2.700000e+05   16524.000000     2.385000e+05   \n",
      "50%    5.135310e+05   24903.000000     4.500000e+05   \n",
      "75%    8.086500e+05   34596.000000     6.795000e+05   \n",
      "max    4.050000e+06  258025.500000     4.050000e+06   \n",
      "\n",
      "       REGION_POPULATION_RELATIVE     DAYS_BIRTH  DAYS_EMPLOYED  \\\n",
      "count               307511.000000  307511.000000  307511.000000   \n",
      "mean                     0.020868  -16036.995067   63815.045904   \n",
      "std                      0.013831    4363.988632  141275.766519   \n",
      "min                      0.000290  -25229.000000  -17912.000000   \n",
      "25%                      0.010006  -19682.000000   -2760.000000   \n",
      "50%                      0.018850  -15750.000000   -1213.000000   \n",
      "75%                      0.028663  -12413.000000    -289.000000   \n",
      "max                      0.072508   -7489.000000  365243.000000   \n",
      "\n",
      "                  ...              FLAG_DOCUMENT_18  FLAG_DOCUMENT_19  \\\n",
      "count             ...                 307511.000000     307511.000000   \n",
      "mean              ...                      0.008130          0.000595   \n",
      "std               ...                      0.089798          0.024387   \n",
      "min               ...                      0.000000          0.000000   \n",
      "25%               ...                      0.000000          0.000000   \n",
      "50%               ...                      0.000000          0.000000   \n",
      "75%               ...                      0.000000          0.000000   \n",
      "max               ...                      1.000000          1.000000   \n",
      "\n",
      "       FLAG_DOCUMENT_20  FLAG_DOCUMENT_21  AMT_REQ_CREDIT_BUREAU_HOUR  \\\n",
      "count     307511.000000     307511.000000               265992.000000   \n",
      "mean           0.000507          0.000335                    0.006402   \n",
      "std            0.022518          0.018299                    0.083849   \n",
      "min            0.000000          0.000000                    0.000000   \n",
      "25%            0.000000          0.000000                    0.000000   \n",
      "50%            0.000000          0.000000                    0.000000   \n",
      "75%            0.000000          0.000000                    0.000000   \n",
      "max            1.000000          1.000000                    4.000000   \n",
      "\n",
      "       AMT_REQ_CREDIT_BUREAU_DAY  AMT_REQ_CREDIT_BUREAU_WEEK  \\\n",
      "count              265992.000000               265992.000000   \n",
      "mean                    0.007000                    0.034362   \n",
      "std                     0.110757                    0.204685   \n",
      "min                     0.000000                    0.000000   \n",
      "25%                     0.000000                    0.000000   \n",
      "50%                     0.000000                    0.000000   \n",
      "75%                     0.000000                    0.000000   \n",
      "max                     9.000000                    8.000000   \n",
      "\n",
      "       AMT_REQ_CREDIT_BUREAU_MON  AMT_REQ_CREDIT_BUREAU_QRT  \\\n",
      "count              265992.000000              265992.000000   \n",
      "mean                    0.267395                   0.265474   \n",
      "std                     0.916002                   0.794056   \n",
      "min                     0.000000                   0.000000   \n",
      "25%                     0.000000                   0.000000   \n",
      "50%                     0.000000                   0.000000   \n",
      "75%                     0.000000                   0.000000   \n",
      "max                    27.000000                 261.000000   \n",
      "\n",
      "       AMT_REQ_CREDIT_BUREAU_YEAR  \n",
      "count               265992.000000  \n",
      "mean                     1.899974  \n",
      "std                      1.869295  \n",
      "min                      0.000000  \n",
      "25%                      0.000000  \n",
      "50%                      1.000000  \n",
      "75%                      3.000000  \n",
      "max                     25.000000  \n",
      "\n",
      "[8 rows x 106 columns]\n"
     ]
    }
   ],
   "source": [
    "#各類統計資訊\n",
    "dfs = df.describe()\n",
    "print(dfs)"
   ]
  },
  {
   "cell_type": "code",
   "execution_count": 10,
   "metadata": {},
   "outputs": [
    {
     "name": "stdout",
     "output_type": "stream",
     "text": [
      "  CODE_GENDER FLAG_OWN_CAR FLAG_OWN_REALTY  CNT_CHILDREN  AMT_INCOME_TOTAL  \\\n",
      "0           M            N               Y             0          202500.0   \n",
      "1           F            N               N             0          270000.0   \n",
      "2           M            Y               Y             0           67500.0   \n",
      "3           F            N               Y             0          135000.0   \n",
      "4           M            N               Y             0          121500.0   \n",
      "5           M            N               Y             0           99000.0   \n",
      "6           F            Y               Y             1          171000.0   \n",
      "7           M            Y               Y             0          360000.0   \n",
      "8           F            N               Y             0          112500.0   \n",
      "9           M            N               Y             0          135000.0   \n",
      "\n",
      "   AMT_CREDIT  AMT_ANNUITY  \n",
      "0    406597.5      24700.5  \n",
      "1   1293502.5      35698.5  \n",
      "2    135000.0       6750.0  \n",
      "3    312682.5      29686.5  \n",
      "4    513000.0      21865.5  \n",
      "5    490495.5      27517.5  \n",
      "6   1560726.0      41301.0  \n",
      "7   1530000.0      42075.0  \n",
      "8   1019610.0      33826.5  \n",
      "9    405000.0      20250.0  \n"
     ]
    }
   ],
   "source": [
    "#僅顯示前10列，第三至第十欄的資訊\n",
    "top_left_corner_df = df.iloc[:10, 3:10]\n",
    "print(top_left_corner_df)"
   ]
  },
  {
   "cell_type": "code",
   "execution_count": 11,
   "metadata": {},
   "outputs": [
    {
     "name": "stdout",
     "output_type": "stream",
     "text": [
      "   SK_ID_CURR  TARGET NAME_CONTRACT_TYPE CODE_GENDER FLAG_OWN_CAR  \\\n",
      "0      100002       1         Cash loans           M            N   \n",
      "1      100003       0         Cash loans           F            N   \n",
      "2      100004       0    Revolving loans           M            Y   \n",
      "\n",
      "  FLAG_OWN_REALTY  CNT_CHILDREN  \n",
      "0               Y             0  \n",
      "1               N             0  \n",
      "2               Y             0  \n",
      "--------------------------------------------------\n",
      "                             0           1                2\n",
      "SK_ID_CURR              100002      100003           100004\n",
      "TARGET                       1           0                0\n",
      "NAME_CONTRACT_TYPE  Cash loans  Cash loans  Revolving loans\n",
      "CODE_GENDER                  M           F                M\n",
      "FLAG_OWN_CAR                 N           N                Y\n",
      "FLAG_OWN_REALTY              Y           N                Y\n",
      "CNT_CHILDREN                 0           0                0\n"
     ]
    }
   ],
   "source": [
    "#欄列置換\n",
    "Odf = df.iloc[:3, :7]\n",
    "print(Odf)\n",
    "print(\"-\"*50)\n",
    "\n",
    "dfT = Odf.T \n",
    "print(dfT)"
   ]
  },
  {
   "cell_type": "code",
   "execution_count": null,
   "metadata": {},
   "outputs": [],
   "source": []
  }
 ],
 "metadata": {
  "kernelspec": {
   "display_name": "Python 3",
   "language": "python",
   "name": "python3"
  },
  "language_info": {
   "codemirror_mode": {
    "name": "ipython",
    "version": 3
   },
   "file_extension": ".py",
   "mimetype": "text/x-python",
   "name": "python",
   "nbconvert_exporter": "python",
   "pygments_lexer": "ipython3",
   "version": "3.6.4"
  }
 },
 "nbformat": 4,
 "nbformat_minor": 2
}
