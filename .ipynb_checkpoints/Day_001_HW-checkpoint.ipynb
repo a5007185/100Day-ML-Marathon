{
 "cells": [
  {
   "cell_type": "markdown",
   "metadata": {},
   "source": [
    "# D1：資料介紹與評估指標"
   ]
  },
  {
   "cell_type": "markdown",
   "metadata": {},
   "source": [
    "## 作業1\n",
    "### [Classify gestures by reading muscle activity.](https://www.kaggle.com/kyr7plus/emg-4)\n",
    "\n",
    "### 1. 你選的這組資料為何重要\n",
    "    隨著3D列印的發展，\n",
    "    已有眾多人投身於義肢的設計及製作，\n",
    "    但對於義肢的操控方式卻還不夠完整，\n",
    "    若我們能利用剩餘殘肢的行為來驅動義肢，\n",
    "    那這對於身心障礙族群來說，\n",
    "    就像是重獲新的一副雙手一樣。\n",
    "\n",
    "### 2. 資料從何而來 (tips: 譬如提供者是誰、以什麼方式蒐集)\n",
    "    利用感測器觀測在做不同手勢時的肌肉活動狀況，\n",
    "    並利用Android蒐集數據。\n",
    "    受試者會做出石頭、剪刀、布及Ok等手勢，\n",
    "    安放在手臂上八個感測器會回傳各自蒐集到的八組數值。\n",
    "\n",
    "### 3. 蒐集而來的資料型態為何\n",
    "    資料型態為正負的整數\n",
    "\n",
    "### 4. 這組資料想解決的問題如何評估\n",
    "    分析每個手勢中的每項數值是否存在特徵或者趨勢，\n",
    "    可使用迴歸 (Mean Squared Error, MSE)、ROC、AUC"
   ]
  },
  {
   "cell_type": "markdown",
   "metadata": {},
   "source": [
    "## 作業2：\n",
    "\n",
    "想像你經營一個自由載客車隊，你希望能透過數據分析以提升業績，請你思考並描述你如何規劃整體的分析/解決方案：\n",
    "\n",
    "### 1. 核心問題為何 (tips：如何定義 「提升業績 & 你的假設」)\n",
    "提升業績\n",
    "1.提升稼動率\n",
    "2.提升價格又能讓乘客接受\n",
    "\n",
    "\n",
    "\n",
    "### 2. 資料從何而來 (tips：哪些資料可能會對你想問的問題產生影響 & 資料如何蒐集)\n",
    "**公司自建乘客搭乘資料庫** 分析消費者行為、評估市場需求及人潮流向。\n",
    "\n",
    "[**捷運每日分時各站OD流量統計**](https://data.taipei/dataset/detail/metadata?id=63f31c7e-7fc3-418b-bd82-b95158755b4d) 可概括分析人潮流向。\n",
    "\n",
    "\n",
    "### 3. 蒐集而來的資料型態為何\n",
    "乘客紀錄，會員號碼/手機號碼/日期/搭車時間/下車時間/天氣/搭車地點/下車地點/金額/人數\n",
    "捷運每日分時各站OD流量統計，日期/時段/進站/出站/人數\n",
    "\n",
    "### 4. 你要回答的問題，其如何評估 (tips：你的假設如何驗證)\n",
    "1. 計算稼動比：  \n",
    "將司機執勤時段概分成上午/下午/晚上/半夜，\n",
    "並依據這四個時段計算其稼動比。\n",
    "\n",
    "$$稼動比=\\cfrac{載客時間}{值勤時間}=\\cfrac{載客時間}{載客時間+待機時間}$$\n",
    "\n",
    "2. 計算每公里平均計價\n",
    "除了依據不同的時段給予不同的計算基礎外，\n",
    "另外需將服務區分成蛋黃區/蛋白區/蛋殼外三個區域，\n",
    "並依據乘客來往關係及短/中/長程來計算每公里平均計價。\n",
    "\n",
    "編號|起訖區域|行駛距離\n",
    "--:|:------------:|:---------------\n",
    "1  |蛋黃區 - 蛋黃區|短程            \n",
    "2  |蛋黃區 - 蛋白區|中程            \n",
    "3  |蛋黃區 - 蛋殼區|長程            \n",
    "4  |蛋白區 - 蛋白區|短程、中程      \n",
    "5  |蛋白區 - 蛋殼區|中程、長程      \n",
    "6  |蛋殼區 - 蛋殼區|短程、中程、長程\n",
    "\n",
    "$$每公里平均計價=\\cfrac{\\sum每趟車資/公里數}{趟數}$$"
   ]
  },
  {
   "cell_type": "markdown",
   "metadata": {},
   "source": [
    "## 作業3"
   ]
  },
  {
   "cell_type": "markdown",
   "metadata": {},
   "source": [
    "## 練習時間\n",
    "#### 請寫一個函式用來計算 Mean Square Error\n",
    "$ MSE = \\frac{1}{n}\\sum_{i=1}^{n}{(Y_i - \\hat{Y}_i)^2} $\n",
    "\n",
    "### Hint: [如何取平方](https://googoodesign.gitbooks.io/-ezpython/unit-1.html)"
   ]
  },
  {
   "cell_type": "code",
   "execution_count": null,
   "metadata": {},
   "outputs": [],
   "source": [
    "import numpy as np\n",
    "import matplotlib.pyplot as plt"
   ]
  },
  {
   "cell_type": "code",
   "execution_count": null,
   "metadata": {},
   "outputs": [],
   "source": [
    "def mean_absolute_error(y, yp):\n",
    "    \"\"\"\n",
    "    計算 MAE\n",
    "    Args:\n",
    "        - y: 實際值\n",
    "        - yp: 預測值\n",
    "    Return:\n",
    "        - mae: MAE\n",
    "    \"\"\"\n",
    "    mae = MAE = sum(abs(y - yp)) / len(y)\n",
    "    return mae\n",
    "\n",
    "# MAE = mean_absolute_error(y, y_hat)\n",
    "# print(\"The Mean absolute error is %.3f\" % (MAE))"
   ]
  },
  {
   "cell_type": "code",
   "execution_count": null,
   "metadata": {},
   "outputs": [],
   "source": [
    "def mean_squared_error(y, yp):\n",
    "    \"\"\"----------------------\n",
    "    計算 MSE\n",
    "    Args:\n",
    "        - y: 實際值\n",
    "        - yp: 預測值\n",
    "    Return:\n",
    "        - mse: MSE\n",
    "    ----------------------\"\"\"\n",
    "\n",
    "    mse = sum((y - yp)**2) / len(y)\n",
    "    return mse\n",
    "\n",
    "# MSE = mean_squared_error(y, y_hat)\n",
    "# print(\"The Mean squared error is %.3f\" % (MSE))"
   ]
  },
  {
   "cell_type": "code",
   "execution_count": null,
   "metadata": {},
   "outputs": [],
   "source": [
    "w = 3\n",
    "b = 0.5\n",
    "\n",
    "x_lin = np.linspace(0, 100, 101)\n",
    "\n",
    "y = (x_lin + np.random.randn(101) * 5) * w + b\n",
    "\n",
    "plt.plot(x_lin, y, 'b.', label = 'data points')\n",
    "plt.title(\"Assume we have data points\")\n",
    "plt.legend(loc = 2)\n",
    "plt.show()"
   ]
  },
  {
   "cell_type": "code",
   "execution_count": null,
   "metadata": {},
   "outputs": [],
   "source": [
    "y_hat = x_lin * w + b\n",
    "plt.plot(x_lin, y, 'b.', label = 'data')\n",
    "plt.plot(x_lin, y_hat, 'r-', label = 'prediction')\n",
    "plt.title(\"Assume we have data points (And the prediction)\")\n",
    "plt.legend(loc = 2)\n",
    "plt.show()"
   ]
  },
  {
   "cell_type": "code",
   "execution_count": null,
   "metadata": {},
   "outputs": [],
   "source": [
    "# 執行 Function, 確認有沒有正常執行\n",
    "MSE = mean_squared_error(y, y_hat)\n",
    "MAE = mean_absolute_error(y, y_hat)\n",
    "print(\"The Mean squared error is %.3f\" % (MSE))\n",
    "print(\"The Mean absolute error is %.3f\" % (MAE))"
   ]
  }
 ],
 "metadata": {
  "anaconda-cloud": {},
  "kernelspec": {
   "display_name": "Python 3",
   "language": "python",
   "name": "python3"
  },
  "language_info": {
   "codemirror_mode": {
    "name": "ipython",
    "version": 3
   },
   "file_extension": ".py",
   "mimetype": "text/x-python",
   "name": "python",
   "nbconvert_exporter": "python",
   "pygments_lexer": "ipython3",
   "version": "3.6.4"
  }
 },
 "nbformat": 4,
 "nbformat_minor": 1
}
